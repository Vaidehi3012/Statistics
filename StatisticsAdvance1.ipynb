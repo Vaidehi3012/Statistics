{
  "nbformat": 4,
  "nbformat_minor": 0,
  "metadata": {
    "colab": {
      "provenance": []
    },
    "kernelspec": {
      "name": "python3",
      "display_name": "Python 3"
    },
    "language_info": {
      "name": "python"
    }
  },
  "cells": [
    {
      "cell_type": "markdown",
      "source": [
        "#Statistics Advancce 1"
      ],
      "metadata": {
        "id": "-q4-hHk1SMDL"
      }
    },
    {
      "cell_type": "markdown",
      "source": [
        "1. What is a random variable in probability theory?\n",
        "  - Random Variable in Probability Theory:\n",
        "  - A random variable (RV) is a fundamental concept in probability theory. It is a variable whose possible values are numerical outcomes of a random experiment. Instead of describing outcomes in words, we assign numbers to them, making analysis easier.\n",
        "  - Definition\n",
        "  - A random variable is a function that assigns a real number to each outcome in the sample space of a random experiment.\n",
        "  - Formally,\n",
        "  - If\n",
        "  𝑆 S is a sample space and 𝑋 X is a random variable, then:\n",
        "  X:S→R\n",
        "  where 𝑋(𝜔)\n",
        "  X(ω) is the numerical value assigned to outcome 𝜔∈𝑆.\n",
        "  - Types of Random Variables\n",
        "  - Discrete Random Variable\n",
        "  - Takes a countable number of possible values.Example: Number of heads when tossing 3 coins. (0,1,2,3)\n",
        "  - Continuous Random Variable\n",
        "  - Takes an uncountably infinite set of values, usually over an interval. Example: The height of a student, time to complete a task.\n",
        "  - Examples:\n",
        "  - Tossing a fair die: Let X = outcome of die. Possible values are {1,2,3,4,5,6}.\n",
        "  - Measuring rainfall in a day: Let X = rainfall in cm, which is continuous."
      ],
      "metadata": {
        "id": "dD0lhVUCSPlW"
      }
    },
    {
      "cell_type": "markdown",
      "source": [
        "2. What are the types of random variables?\n",
        "  - 1. Discrete Random Variable\n",
        "  - Takes a finite or countably infinite set of values.\n",
        "  - Probabilities are described using a Probability Mass Function (PMF).\n",
        "  - Example:\n",
        "  - Number of heads when tossing 3 coins (0,1,2,3)\n",
        "  - Score when rolling a die (1,2,3,4,5,6)\n",
        "  - 2. Continuous Random Variable\n",
        "  - Takes uncountably infinite values over an interval of real numbers.\n",
        "  - Probabilities are described using a Probability Density Function (PDF).\n",
        "  - Example:\n",
        "  - Height or weight of a person\n",
        "  - Time taken to run a race"
      ],
      "metadata": {
        "id": "bqReQUTkTijI"
      }
    },
    {
      "cell_type": "markdown",
      "source": [
        "3.  Explain the difference between discrete and continuous distributions.\n",
        "  - 1. Discrete Probability Distribution:\n",
        "  Applicable when the random variable is discrete (takes countable values). Probability is described by a Probability Mass Function (PMF). The probability of each individual value is non-zero. Total probability satisfies:\n",
        "  ∑​P(X=xi​)=1\n",
        "  Examples:\n",
        "  Binomial distribution (success/failure in n trials)\n",
        "  Poisson distribution (number of accidents in a day)\n",
        "  Tossing coins, rolling dice\n",
        "  - 2. Continuous Probability Distribution:\n",
        "  Applicable when the random variable is continuous (takes uncountably infinite values in an interval). Probability is described by a Probability Density Function (PDF). The probability of any exact value is zero; only intervals have non-zero probability. Total probability satisfies:\n",
        "  −∞∞​f(x)dx=1\n",
        "  Examples:\n",
        "  Normal distribution (heights, exam scores)\n",
        "  Exponential distribution (time between arrivals)\n",
        "  Uniform distribution (random number between 0 and 1)\n",
        "  - | Feature                        | Discrete Distribution                 | Continuous Distribution            |\n",
        "| ------------------------------ | ------------------------------------- | ---------------------------------- |\n",
        "| **Random Variable**            | Countable values (finite or infinite) | Uncountable values (real interval) |\n",
        "| **Function Used**              | Probability Mass Function (PMF)       | Probability Density Function (PDF) |\n",
        "| **Probability of Exact Value** | Non-zero (e.g., $P(X=2)=0.25$)        | Always zero ($P(X=2)=0$)           |\n",
        "| **Cumulative Probability**     | Sum of probabilities                  | Integral of density function       |\n",
        "| **Examples**                   | Binomial, Poisson, Geometric          | Normal, Exponential, Uniform       |\n"
      ],
      "metadata": {
        "id": "M43YpMHYTim8"
      }
    },
    {
      "cell_type": "markdown",
      "source": [
        "4. What is a binomial distribution, and how is it used in probability?\n",
        "  - Definition:\n",
        "  The Binomial Distribution is a discrete probability distribution that models the number of successes in a fixed number of independent trials of a Bernoulli experiment, where each trial has only two possible outcomes:\n",
        "  Success (p)\n",
        "  Failure (q = 1 – p)\n",
        "  If a random variable 𝑋 X represents the number of successes in 𝑛 n trials, then 𝑋 X follows a binomial distribution.\n",
        "  - Probability Mass Function (PMF):\n",
        "  The probability of obtaining exactly 𝑘 k successes in 𝑛 n trials is:\n",
        "  P(X=k)=(kn​)pk(1−p)n−k,k=0,1,2,…,n\n",
        "  - Examples of Use:\n",
        "  1 Coin Tossing: Probability of getting exactly 3 heads in 5 tosses.\n",
        "  P(X=3)=(35​)(0.5)3(0.5)2=10⋅0.125⋅0.25=0.3125\n",
        "  2 Quality Control: If 2% of items are defective (𝑝=0.02 p=0.02), probability of finding 1 defective in a sample of 10 items.\n",
        "  3 Medicine Trials: Probability that exactly 6 out of 10 patients respond positively to a new drug.\n",
        "  - Applications:\n",
        "  Decision-making in business and industry (defective products, reliability testing).\n",
        "  Genetics (probability of inheriting traits).\n",
        "  Elections and surveys (probability of a certain number of people favoring a candidate).\n",
        "  Basis for normal approximation when 𝑛 n is large."
      ],
      "metadata": {
        "id": "ayXSD2KnTios"
      }
    },
    {
      "cell_type": "markdown",
      "source": [
        "5.  What is the standard normal distribution, and why is it important?\n",
        "  - Definition:\n",
        "  The Standard Normal Distribution (SND) is a special case of the normal distribution where the mean is 0 and the standard deviation is 1. It is a continuous probability distribution, symmetric about the mean. A random variable Z follows a standard normal distribution if:\n",
        "  Z∼N(0,1)\n",
        "  with probability density function (PDF):\n",
        "  f(z)=2π 1​e−2z2​,−∞< z <∞\n",
        "  - Importance of Standard Normal Distribution\n",
        "  Simplifies Calculations:\n",
        "  Probabilities for any normal distribution can be found by converting to the standard normal distribution using Z-scores.\n",
        "  Basis for Statistical Inference:\n",
        "  Used in hypothesis testing, confidence intervals, and regression analysis>\n",
        "  Widely Applicable:\n",
        "  Many natural and social phenomena (heights, IQ scores, measurement errors) follow approximately normal distribution.\n",
        "  Foundation for Other Distributions:\n",
        "  Related to t-distribution, chi-square distribution, and F-distribution.\n",
        "  Decision-Making:\n",
        "  In quality control, finance (stock returns), psychology, and data science.\n",
        "  - Example:\n",
        "  If exam scores are normally distributed with mean 𝜇=70 μ=70 and standard deviation 𝜎=10 σ=10, the probability that a student scores above 80 is: 𝑍=80−70 10 = 1 Z= 10 80−70 = 1\n",
        "  So, 𝑃(𝑋>80)=𝑃(𝑍>1)≈0.1587\n",
        "  P(X>80)=P(Z>1)≈0.1587.\n",
        "  "
      ],
      "metadata": {
        "id": "iTVbQvfqTiqy"
      }
    },
    {
      "cell_type": "markdown",
      "source": [
        "6. What is the Central Limit Theorem (CLT), and why is it critical in statistics?\n",
        "  - Definition:\n",
        "  The Central Limit Theorem (CLT) is a fundamental result in probability and statistics. It states that:\n",
        "  If we take a large number of independent and identically distributed (i.i.d.) random variables with finite mean 𝜇 μ and finite variance 𝜎 2,then the distribution of their sample mean approaches a normal distribution, regardless of the original population’s distribution.\n",
        "  - Mathematical Formulation:\n",
        "  Z=σ/n\n",
        "​Xˉ−μ​\n",
        "n→∞​N(0,1)\n",
        "  - Key Points:\n",
        "  The original population does not need to be normal.\n",
        "  As the sample size 𝑛 n increases (usually 𝑛≥30n≥30), the sampling distribution of the mean becomes approximately normal.\n",
        "  The mean of the sampling distribution is the population mean 𝜇.\n",
        "  The standard deviation of the sampling distribution (called standard error) is:\n",
        "  σXˉ​=n\n",
        "​σ​\n",
        "  - Importance of CLT:\n",
        "  Foundation of Inferential Statistics:\n",
        "  Allows us to make inferences about population parameters using sample data.Justifies Use of Normal Distribution:\n",
        "  Many statistical tests (t-tests, z-tests, ANOVA, regression) rely on normality. CLT ensures approximate normality for large samples.\n",
        "  Simplifies Probability Calculations:\n",
        "  Even if the population is skewed or unknown, we can approximate probabilities using the normal distribution.\n",
        "  Practical Applications:\n",
        "  Quality control, polling and surveys, risk management, finance, and data science.\n",
        "  - Example:\n",
        "  Suppose the weight of apples in an orchard follows an unknown distribution with mean 𝜇=150.\n",
        "  If we take a sample of 𝑛=40 apples, the sampling distribution of the mean weight is approximately normal with:\n",
        "  μXˉ​=150,σXˉ​=40\n",
        "​20​≈3.16\n",
        "  Thus, we can use the normal distribution to estimate probabilities about the average weight."
      ],
      "metadata": {
        "id": "bTWEero8TitA"
      }
    },
    {
      "cell_type": "markdown",
      "source": [
        "7. What is the significance of confidence intervals in statistical analysis?\n",
        "  - Definition:\n",
        "  A Confidence Interval (CI) is a range of values, derived from sample data, that is likely to contain the true population parameter (e.g., mean, proportion) with a specified level of confidence.\n",
        "  For example, a 95% confidence interval for the population mean means that if we were to repeat sampling many times, about 95% of such intervals would contain the true mean.\n",
        "  - General Formula:\n",
        "  For a sample mean X:\n",
        "  CI=Xˉ±Zα/2​⋅n\n",
        "​σ​\n",
        "  - Significance / Importance:\n",
        "  Estimation of Population Parameters:\n",
        "  Unlike a single point estimate, a CI provides a range of plausible values for the true parameter.\n",
        "  Quantifies Uncertainty:\n",
        "  Reflects the degree of confidence (e.g., 90%, 95%, 99%) in the estimate.\n",
        "  More Informative than Point Estimates:\n",
        "  A point estimate (like sample mean = 50) gives no sense of reliability, while a CI (e.g., 50 ± 2) indicates possible variation.\n",
        "  Decision-Making in Research:\n",
        "  Helps determine if a parameter lies within an acceptable range.\n",
        "  Example: In clinical trials, CI shows whether a drug effect is significantly different from zero.\n",
        "  Basis for Hypothesis Testing:\n",
        "  If a hypothesized population value (e.g., 𝜇0) lies outside the confidence interval, we reject the null hypothesis at the chosen confidence level.\n",
        "  Adaptable to Various Statistics:\n",
        "  Used for means, proportions, variances, regression coefficients, etc.\n",
        "  - Example:\n",
        "  A researcher finds the average exam score of 100 students is 70 with a standard deviation of 10. At 95% confidence:\n",
        "  CI=70±1.96×100 10​\n",
        "  CI=70±1.96\n",
        "  CI=(68.04,71.96)."
      ],
      "metadata": {
        "id": "CtxmpTs6Tiua"
      }
    },
    {
      "cell_type": "markdown",
      "source": [
        "8. What is the concept of expected value in a probability distribution?\n",
        "  - The expected value (EV) is the long-run average outcome of a random variable in a probability distribution. It represents the value we would expect if an experiment were repeated many times.\n",
        "  - For a discrete random variable 𝑋:\n",
        "  E[X]=i∑​xi​⋅P(X=xi​)\n",
        "  - For a continuous random variable 𝑋:\n",
        "  - E[X]=∫−∞∞​x⋅f(x)dx\n",
        "  - Example:\n",
        "  If a die is rolled, the expected value is:\n",
        "  E[X]=61+2+3+4+5+6​=3.5"
      ],
      "metadata": {
        "id": "hn2phJ3VTixu"
      }
    },
    {
      "cell_type": "code",
      "source": [
        "#9. Write a Python program to generate 1000 random numbers from a normal distribution with mean = 50 and standard deviation = 5. Compute its mean and standard deviation using NumPy, and draw a histogram to visualize the distribution. (Include your Python code and output in the code box below.)\n",
        "import numpy as np\n",
        "import matplotlib.pyplot as plt\n",
        "\n",
        "# Generate 1000 random numbers from Normal Distribution (mean=50, std=5)\n",
        "data = np.random.normal(loc=50, scale=5, size=1000)\n",
        "\n",
        "# Compute mean and standard deviation\n",
        "mean_val = np.mean(data)\n",
        "std_val = np.std(data)\n",
        "\n",
        "print(\"Computed Mean:\", mean_val)\n",
        "print(\"Computed Standard Deviation:\", std_val)\n",
        "\n",
        "# Draw histogram\n",
        "plt.hist(data, bins=30, edgecolor='black', alpha=0.7)\n",
        "plt.title(\"Histogram of Normal Distribution (mean=50, std=5)\")\n",
        "plt.xlabel(\"Value\")\n",
        "plt.ylabel(\"Frequency\")\n",
        "plt.show()\n"
      ],
      "metadata": {
        "colab": {
          "base_uri": "https://localhost:8080/",
          "height": 508
        },
        "id": "r0eN0KLofGcA",
        "outputId": "8747ec83-44ed-456d-f5a2-b8802d1ed0e9"
      },
      "execution_count": 1,
      "outputs": [
        {
          "output_type": "stream",
          "name": "stdout",
          "text": [
            "Computed Mean: 50.11999790143385\n",
            "Computed Standard Deviation: 5.018270924484006\n"
          ]
        },
        {
          "output_type": "display_data",
          "data": {
            "text/plain": [
              "<Figure size 640x480 with 1 Axes>"
            ],
            "image/png": "[encoded data removed]"
          },
          "metadata": {}
        }
      ]
    }
  ]
}